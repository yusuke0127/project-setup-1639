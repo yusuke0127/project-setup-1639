{
 "cells": [
  {
   "cell_type": "markdown",
   "id": "488eeb3b",
   "metadata": {},
   "source": [
    "# How do I import packages in a notebook"
   ]
  },
  {
   "cell_type": "code",
   "execution_count": 1,
   "id": "a81aec82",
   "metadata": {},
   "outputs": [
    {
     "name": "stdout",
     "output_type": "stream",
     "text": [
      "Project Setup.ipynb\r\n"
     ]
    }
   ],
   "source": [
    "ls "
   ]
  },
  {
   "cell_type": "code",
   "execution_count": 2,
   "id": "b13650f9",
   "metadata": {},
   "outputs": [
    {
     "name": "stdout",
     "output_type": "stream",
     "text": [
      "\u001b[1m\u001b[36mcsv\u001b[m\u001b[m/       \u001b[1m\u001b[36mlewagon\u001b[m\u001b[m/   \u001b[1m\u001b[36mnotebooks\u001b[m\u001b[m/\r\n"
     ]
    }
   ],
   "source": [
    "ls .."
   ]
  },
  {
   "cell_type": "code",
   "execution_count": 3,
   "id": "a38e06b8",
   "metadata": {},
   "outputs": [],
   "source": [
    "from lewagon.student import Student"
   ]
  },
  {
   "cell_type": "markdown",
   "id": "c5df97f8",
   "metadata": {},
   "source": [
    "# Sys.path"
   ]
  },
  {
   "cell_type": "code",
   "execution_count": 4,
   "id": "17c6e489",
   "metadata": {},
   "outputs": [
    {
     "data": {
      "text/plain": [
       "['/Users/yusuke/code/lewagon-repo/lectures-1639/project-setup/lewagon-project/notebooks',\n",
       " '/Users/yusuke/code/lewagon-repo/lectures-1639/project-setup/lewagon-project',\n",
       " '/Users/yusuke/.pyenv/versions/3.10.6/lib/python310.zip',\n",
       " '/Users/yusuke/.pyenv/versions/3.10.6/lib/python3.10',\n",
       " '/Users/yusuke/.pyenv/versions/3.10.6/lib/python3.10/lib-dynload',\n",
       " '',\n",
       " '/Users/yusuke/.pyenv/versions/3.10.6/envs/lewagon/lib/python3.10/site-packages',\n",
       " '/Users/yusuke/code/yusuke0127/ds-mlops-week-full-recap']"
      ]
     },
     "execution_count": 4,
     "metadata": {},
     "output_type": "execute_result"
    }
   ],
   "source": [
    "import sys; sys.path"
   ]
  },
  {
   "cell_type": "code",
   "execution_count": 5,
   "id": "c5e406a3",
   "metadata": {},
   "outputs": [
    {
     "data": {
      "text/plain": [
       "['/Users/yusuke/code/lewagon-repo/lectures-1639/project-setup/lewagon-project/notebooks',\n",
       " '/Users/yusuke/code/lewagon-repo/lectures-1639/project-setup/lewagon-project',\n",
       " '/Users/yusuke/.pyenv/versions/3.10.6/lib/python310.zip',\n",
       " '/Users/yusuke/.pyenv/versions/3.10.6/lib/python3.10',\n",
       " '/Users/yusuke/.pyenv/versions/3.10.6/lib/python3.10/lib-dynload',\n",
       " '',\n",
       " '/Users/yusuke/.pyenv/versions/3.10.6/envs/lewagon/lib/python3.10/site-packages',\n",
       " '/Users/yusuke/code/yusuke0127/ds-mlops-week-full-recap']"
      ]
     },
     "execution_count": 5,
     "metadata": {},
     "output_type": "execute_result"
    }
   ],
   "source": [
    "sys.path"
   ]
  },
  {
   "cell_type": "code",
   "execution_count": 6,
   "id": "0afff7c7",
   "metadata": {},
   "outputs": [
    {
     "data": {
      "text/plain": [
       "'/Users/yusuke/code/lewagon-repo/lectures-1639/project-setup/lewagon-project/notebooks'"
      ]
     },
     "execution_count": 6,
     "metadata": {},
     "output_type": "execute_result"
    }
   ],
   "source": [
    "pwd"
   ]
  },
  {
   "cell_type": "code",
   "execution_count": 7,
   "id": "182c86ad",
   "metadata": {},
   "outputs": [
    {
     "data": {
      "text/plain": [
       "'/Users/yusuke/code/lewagon-repo/lectures-1639/project-setup/lewagon-project'"
      ]
     },
     "execution_count": 7,
     "metadata": {},
     "output_type": "execute_result"
    }
   ],
   "source": [
    "path = \"/Users/yusuke/code/lewagon-repo/lectures-1639/project-setup/lewagon-project\"\n",
    "path"
   ]
  },
  {
   "cell_type": "code",
   "execution_count": 8,
   "id": "d8822f03",
   "metadata": {},
   "outputs": [
    {
     "name": "stdout",
     "output_type": "stream",
     "text": [
      "\u001b[1m\u001b[36mcsv\u001b[m\u001b[m/       \u001b[1m\u001b[36mlewagon\u001b[m\u001b[m/   \u001b[1m\u001b[36mnotebooks\u001b[m\u001b[m/\r\n"
     ]
    }
   ],
   "source": [
    "ls .."
   ]
  },
  {
   "cell_type": "code",
   "execution_count": 9,
   "id": "b228fa68",
   "metadata": {},
   "outputs": [],
   "source": [
    "sys.path.append(path)"
   ]
  },
  {
   "cell_type": "code",
   "execution_count": 10,
   "id": "6bd03a3b",
   "metadata": {},
   "outputs": [
    {
     "data": {
      "text/plain": [
       "['/Users/yusuke/code/lewagon-repo/lectures-1639/project-setup/lewagon-project/notebooks',\n",
       " '/Users/yusuke/code/lewagon-repo/lectures-1639/project-setup/lewagon-project',\n",
       " '/Users/yusuke/.pyenv/versions/3.10.6/lib/python310.zip',\n",
       " '/Users/yusuke/.pyenv/versions/3.10.6/lib/python3.10',\n",
       " '/Users/yusuke/.pyenv/versions/3.10.6/lib/python3.10/lib-dynload',\n",
       " '',\n",
       " '/Users/yusuke/.pyenv/versions/3.10.6/envs/lewagon/lib/python3.10/site-packages',\n",
       " '/Users/yusuke/code/yusuke0127/ds-mlops-week-full-recap',\n",
       " '/Users/yusuke/code/lewagon-repo/lectures-1639/project-setup/lewagon-project']"
      ]
     },
     "execution_count": 10,
     "metadata": {},
     "output_type": "execute_result"
    }
   ],
   "source": [
    "sys.path"
   ]
  },
  {
   "cell_type": "code",
   "execution_count": 11,
   "id": "ecdce0d0",
   "metadata": {},
   "outputs": [],
   "source": [
    "from lewagon.student import Student"
   ]
  },
  {
   "cell_type": "code",
   "execution_count": 12,
   "id": "6ca70044",
   "metadata": {},
   "outputs": [
    {
     "data": {
      "text/plain": [
       "<lewagon.student.Student at 0x108715060>"
      ]
     },
     "execution_count": 12,
     "metadata": {},
     "output_type": "execute_result"
    }
   ],
   "source": [
    "yann = Student(\"Yann\", 21)\n",
    "yann"
   ]
  },
  {
   "cell_type": "markdown",
   "id": "d8187385",
   "metadata": {},
   "source": [
    "# Where am I?"
   ]
  },
  {
   "cell_type": "code",
   "execution_count": 16,
   "id": "7a0eb1b3",
   "metadata": {},
   "outputs": [
    {
     "data": {
      "text/plain": [
       "'/Users/yusuke/code/lewagon-repo/lectures-1639/project-setup/lewagon-project/notebooks'"
      ]
     },
     "execution_count": 16,
     "metadata": {},
     "output_type": "execute_result"
    }
   ],
   "source": [
    "pwd"
   ]
  },
  {
   "cell_type": "code",
   "execution_count": 14,
   "id": "da07e28b",
   "metadata": {},
   "outputs": [
    {
     "data": {
      "text/plain": [
       "'/Users/yusuke/code/lewagon-repo/lectures-1639/project-setup/lewagon-project/notebooks'"
      ]
     },
     "execution_count": 14,
     "metadata": {},
     "output_type": "execute_result"
    }
   ],
   "source": [
    "import os; os.getcwd()"
   ]
  },
  {
   "cell_type": "code",
   "execution_count": 15,
   "id": "14ec5a46",
   "metadata": {},
   "outputs": [
    {
     "name": "stdout",
     "output_type": "stream",
     "text": [
      "/Users/yusuke/code/lewagon-repo/lectures-1639/project-setup/lewagon-project/lewagon/student.py\n"
     ]
    }
   ],
   "source": [
    "yann.where_am_i()"
   ]
  },
  {
   "cell_type": "code",
   "execution_count": null,
   "id": "f946cd88",
   "metadata": {},
   "outputs": [],
   "source": []
  }
 ],
 "metadata": {
  "kernelspec": {
   "display_name": "Python 3 (ipykernel)",
   "language": "python",
   "name": "python3"
  },
  "language_info": {
   "codemirror_mode": {
    "name": "ipython",
    "version": 3
   },
   "file_extension": ".py",
   "mimetype": "text/x-python",
   "name": "python",
   "nbconvert_exporter": "python",
   "pygments_lexer": "ipython3",
   "version": "3.10.6"
  },
  "toc": {
   "base_numbering": 1,
   "nav_menu": {},
   "number_sections": true,
   "sideBar": true,
   "skip_h1_title": false,
   "title_cell": "Table of Contents",
   "title_sidebar": "Contents",
   "toc_cell": false,
   "toc_position": {},
   "toc_section_display": true,
   "toc_window_display": true
  },
  "varInspector": {
   "cols": {
    "lenName": 16,
    "lenType": 16,
    "lenVar": 40
   },
   "kernels_config": {
    "python": {
     "delete_cmd_postfix": "",
     "delete_cmd_prefix": "del ",
     "library": "var_list.py",
     "varRefreshCmd": "print(var_dic_list())"
    },
    "r": {
     "delete_cmd_postfix": ") ",
     "delete_cmd_prefix": "rm(",
     "library": "var_list.r",
     "varRefreshCmd": "cat(var_dic_list()) "
    }
   },
   "types_to_exclude": [
    "module",
    "function",
    "builtin_function_or_method",
    "instance",
    "_Feature"
   ],
   "window_display": false
  }
 },
 "nbformat": 4,
 "nbformat_minor": 5
}
